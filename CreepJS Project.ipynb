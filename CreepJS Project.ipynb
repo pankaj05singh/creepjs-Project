{
 "cells": [
  {
   "cell_type": "code",
   "execution_count": 1,
   "id": "53662eae-1987-4885-a7e1-02bdea82b072",
   "metadata": {},
   "outputs": [
    {
     "name": "stdout",
     "output_type": "stream",
     "text": [
      "Run 1 completed.\n",
      "Run 2 completed.\n",
      "Run 3 completed.\n"
     ]
    }
   ],
   "source": [
    "import json\n",
    "import random\n",
    "import time\n",
    "from selenium import webdriver\n",
    "from selenium.webdriver.chrome.options import Options\n",
    "from selenium.webdriver.common.action_chains import ActionChains\n",
    "from user_agent2 import generate_user_agent\n",
    "from bs4 import BeautifulSoup as BS\n",
    "\n",
    "# Function to get user agents\n",
    "def get_user_agents():\n",
    "    return [generate_user_agent(navigator=\"chrome\") for _ in range(1, 5000)]\n",
    "\n",
    "# Function to get a random user agent\n",
    "def get_random_user_agent(user_agents):\n",
    "    return random.choice(user_agents[1500:2000])\n",
    "\n",
    "# Function to scrape data and save to JSON\n",
    "def scrape_and_save_data(run_number, user_agents):\n",
    "    # Set up Chrome options with a random user agent and enable headless mode\n",
    "    chrome_options = Options()\n",
    "    chrome_options.add_argument(f'user-agent={get_random_user_agent(user_agents)}')\n",
    "    chrome_options.add_experimental_option('excludeSwitches', ['enable-automation'])\n",
    "\n",
    "    # Start the WebDriver\n",
    "    driver = webdriver.Chrome(options=chrome_options)\n",
    "    actions = ActionChains(driver)\n",
    "    actions.move_by_offset(10, 10).perform()\n",
    "\n",
    "    driver.get('https://abrahamjuliot.github.io/creepjs/')\n",
    "    driver.maximize_window()\n",
    "\n",
    "    time.sleep(5)\n",
    "\n",
    "    # Extract data\n",
    "    fp_id_element = driver.find_elements(by=\"xpath\", value='//div[@class=\"ellipsis-all\"]/span')\n",
    "    fp_id = ''.join([i.text for i in fp_id_element.find_elements(by=\"xpath\", value=\".//span\")])\n",
    "\n",
    "    trust_score = driver.find_element(by=\"xpath\", value='//div[@class=\"visitor-info\"]//div[@class=\"col-six\"][1]/div/span[1]').text\n",
    "    lies = driver.find_element(by=\"xpath\", value='//div[@class=\" lies\"]/label').text\n",
    "    bot = driver.find_element(by=\"xpath\", value='//div[@class=\"unblurred\"][1]').text.split()[1]\n",
    "\n",
    "    # Take a screenshot of the entire webpage\n",
    "    screenshot_filename = f'page_{run_number}.png'\n",
    "    driver.save_screenshot(screenshot_filename)\n",
    "\n",
    "    # Create a dictionary with the extracted data and screenshot filename\n",
    "    data_dict = {\n",
    "        \"fp_id\": fp_id,\n",
    "        \"trust_score\": trust_score,\n",
    "        \"lies\": lies,\n",
    "        \"bot\": bot,\n",
    "        \"screenshot_filename\": screenshot_filename\n",
    "    }\n",
    "\n",
    "    # Save the data to a JSON file\n",
    "    json_filename = f'scraped_data_{run_number}.json'\n",
    "    with open(json_filename, 'w') as json_file:\n",
    "        json.dump(data_dict, json_file)\n",
    "\n",
    "    # Close the WebDriver\n",
    "    driver.quit()\n",
    "\n",
    "# Run the script three times\n",
    "for run_number in range(1, 4):\n",
    "    user_agents = get_user_agents()\n",
    "    scrape_and_save_data(run_number, user_agents)\n",
    "    print(f\"Run {run_number} completed.\")\n"
   ]
  },
  {
   "cell_type": "code",
   "execution_count": null,
   "id": "7026c3a1-ada5-4f90-a2b5-e3921b22793c",
   "metadata": {},
   "outputs": [],
   "source": []
  }
 ],
 "metadata": {
  "kernelspec": {
   "display_name": "Python 3 (ipykernel)",
   "language": "python",
   "name": "python3"
  },
  "language_info": {
   "codemirror_mode": {
    "name": "ipython",
    "version": 3
   },
   "file_extension": ".py",
   "mimetype": "text/x-python",
   "name": "python",
   "nbconvert_exporter": "python",
   "pygments_lexer": "ipython3",
   "version": "3.12.0"
  }
 },
 "nbformat": 4,
 "nbformat_minor": 5
}
